{
  "metadata": {
    "language_info": {
      "codemirror_mode": {
        "name": "python",
        "version": 3
      },
      "file_extension": ".py",
      "mimetype": "text/x-python",
      "name": "python",
      "nbconvert_exporter": "python",
      "pygments_lexer": "ipython3",
      "version": "3.8"
    },
    "kernelspec": {
      "name": "python",
      "display_name": "Python (Pyodide)",
      "language": "python"
    }
  },
  "nbformat_minor": 4,
  "nbformat": 4,
  "cells": [
    {
      "cell_type": "code",
      "source": "# 1: Write a python program that takes a name and returns a greeting in the form of a string.\n\ndef greeting(name):\n    print(f\"Hi {name} , nice to meet you!\")\n\n    \ngreeting(\"matias\")",
      "metadata": {
        "trusted": true
      },
      "execution_count": 4,
      "outputs": [
        {
          "name": "stdout",
          "text": "Hi matias , nice to meet you!\n",
          "output_type": "stream"
        }
      ]
    },
    {
      "cell_type": "code",
      "source": "# 2: Write a Python program that Create a function that gives True if a string is empty and False otherwise.\n\ndef empty(text):\n    if text == \"\":\n        return True\n    else:\n        return  False\n\ntest1= empty(\"\")\ntest2= empty(\"same\")\nprint(f\"result of test1 is: {test1}\")\nprint(f\"result of test2 is: {test2}\")\n",
      "metadata": {
        "trusted": true
      },
      "execution_count": 15,
      "outputs": [
        {
          "name": "stdout",
          "text": "result of test1 is: True\nresult of test2 is: False\n",
          "output_type": "stream"
        }
      ]
    },
    {
      "cell_type": "code",
      "source": "# 3: Write a Python program that remove the extra spaces from the following string:' I am   learning Python bject  oriented  programming '\n\ntexto=' I am   learning Python  object  oriented  programming '\n\ntexto_a_lista=texto.split()\n\nprint(\" \".join(texto_a_lista))\n\n\n#lo convierto en lista con split \n#lo separo con join,y los espacios\n\n\n",
      "metadata": {
        "trusted": true
      },
      "execution_count": 8,
      "outputs": [
        {
          "name": "stdout",
          "text": "I am learning Python object oriented programming\n",
          "output_type": "stream"
        }
      ]
    },
    {
      "cell_type": "code",
      "source": "# 4: - Write a python program that reverse the case of string :\n\nstring = \"I am a python developer\"\n\na_lista=string.split()\n\n#sintaxis de corte \ninvertir= a_lista[::-1]\n\n\nprint(\" \".join(invertir))\n\n",
      "metadata": {
        "trusted": true
      },
      "execution_count": 13,
      "outputs": [
        {
          "name": "stdout",
          "text": "developer python a am I\n",
          "output_type": "stream"
        }
      ]
    },
    {
      "cell_type": "code",
      "source": "# 5: Display the number of letters in the string:\nmy_word = \"Python is wonderful\"\ncaracteres=[]\nfor caracter in my_word:\n    if caracter == \" \":\n        del caracter\n    else:\n        caracteres.append(caracter)\n\nprint(f\"Numero de letras en el string: {len(caracteres)}\")\n        \n\n\n\n\n\n\n",
      "metadata": {
        "trusted": true
      },
      "execution_count": 16,
      "outputs": [
        {
          "name": "stdout",
          "text": "Numero de letras en el string: 17\n",
          "output_type": "stream"
        }
      ]
    },
    {
      "cell_type": "code",
      "source": "# 6: Concatenate the following two strings together:\nstring_left = \"Spider\"\nstring_right = \"man\"\n\nconcatenate= string_left + string_right\nprint(concatenate)\n",
      "metadata": {
        "trusted": true
      },
      "execution_count": 17,
      "outputs": [
        {
          "name": "stdout",
          "text": "Spiderman\n",
          "output_type": "stream"
        }
      ]
    },
    {
      "cell_type": "code",
      "source": "# 7: Display two strings together, with a space in between\nstring_one = \"Python\"\nstring_two = \"Programming\"\n\nprint(string_one + \" \" + string_two)",
      "metadata": {
        "trusted": true
      },
      "execution_count": 18,
      "outputs": [
        {
          "name": "stdout",
          "text": "Python Programming\n",
          "output_type": "stream"
        }
      ]
    },
    {
      "cell_type": "code",
      "source": "# 8:Use sub scripting to display part of a string\nstring=\"Python\"\n\nprint(string[2:5])",
      "metadata": {
        "trusted": true
      },
      "execution_count": 21,
      "outputs": [
        {
          "name": "stdout",
          "text": "tho\n",
          "output_type": "stream"
        }
      ]
    },
    {
      "cell_type": "code",
      "source": "# 9: Switch the case of the following strings into lower case :\nstring1 = \"Python\"\nstring2 = \"Programming\"\nstring3 = \"Language\"\n\nprint(string1.lower())\nprint(string2.lower())\nprint(string3.lower())",
      "metadata": {
        "trusted": true
      },
      "execution_count": 23,
      "outputs": [
        {
          "name": "stdout",
          "text": "python\nprogramming\nlanguage\n",
          "output_type": "stream"
        }
      ]
    },
    {
      "cell_type": "code",
      "source": "# 10:  Replace every occurrence of the character \"s\" with the character \"x\"\nphrase = \"Somebody said something to Sara.\"\nlower_phrase= phrase.lower()\n\nnew= lower_phrase.replace(\"s\",\"x\")\nprint(new)",
      "metadata": {
        "trusted": true
      },
      "execution_count": 25,
      "outputs": [
        {
          "name": "stdout",
          "text": "xomebody xaid xomething to xara.\n",
          "output_type": "stream"
        }
      ]
    },
    {
      "cell_type": "code",
      "source": "",
      "metadata": {},
      "execution_count": null,
      "outputs": []
    }
  ]
}
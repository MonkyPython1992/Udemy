{
  "metadata": {
    "language_info": {
      "codemirror_mode": {
        "name": "python",
        "version": 3
      },
      "file_extension": ".py",
      "mimetype": "text/x-python",
      "name": "python",
      "nbconvert_exporter": "python",
      "pygments_lexer": "ipython3",
      "version": "3.8"
    },
    "kernelspec": {
      "name": "python",
      "display_name": "Python (Pyodide)",
      "language": "python"
    }
  },
  "nbformat_minor": 4,
  "nbformat": 4,
  "cells": [
    {
      "cell_type": "code",
      "source": "# 51: Write a function that groups words by the number of capital letters and returns a dictionary \n#     of object entries whose keys are the number of capital letters and the values are the groups.\n\ngrupo=[\"MaTIas\",\"LuiS\",\"ALEJandro\"]\n\ndef mayusculas(grupo):\n    diccionario={}\n    contador=0\n    for palabra in grupo:\n        for letra in palabra:\n            if letra.isupper():\n                contador += 1\n        diccionario[contador]=palabra\n        contador=0\n        \n    return diccionario\n\nprint(mayusculas(grupo))\n\n",
      "metadata": {},
      "execution_count": null,
      "outputs": []
    },
    {
      "cell_type": "code",
      "source": "# 52: Create a dictionary of how many more pages each ink color can print, \n#     output the maximum number of pages the printer can print before any of the colors run out.\n\ntintas={\"cian\":100, \"magenta\":185,\"amarillo\":90}\n\ndef niveles_tinta(tintas):\n    return min(tintas.values())\n\nprint(\"cantidad de hojas disponibles:\" ,niveles_tinta(tintas))\n\n\n\n",
      "metadata": {},
      "execution_count": null,
      "outputs": []
    },
    {
      "cell_type": "code",
      "source": "# 53: Write a function that takes a string name and a number num (either 0 or 1) and return \"Hello\" + name if num is 1, otherwise return \"Bye\" + name\n\n\ndef respuesta(nombre,num):\n    if num == 1:\n        print(\"hello!\",nombre)\n    elif num == 0:\n        print(\"Bye!\",nombre)\n    else:\n        print(\"Please enter 1 for say hello and 0 for say bye.\")\n\nrespuesta(\"matias\",5)\n\n\n",
      "metadata": {},
      "execution_count": null,
      "outputs": []
    },
    {
      "cell_type": "code",
      "source": "# 54: Create a function that takes an array of block height and a jumper's jump height, and determine whether or not the jumper can clear all the blocks\n\n\njugador1=[130,150]\njugador2=[120,70]\n\n\ndef salto(matriz):\n    if matriz[1]>matriz[0]:\n        print(\"El saltador puede borrar los bloques\")\n    else:\n        print(\"El saltador no puede borrar los bloques\")\n\nsalto(jugador1)\nsalto(jugador2)\n\n\n",
      "metadata": {},
      "execution_count": null,
      "outputs": []
    },
    {
      "cell_type": "code",
      "source": "# 55: Write a Python function that takes a number and returns a list of all its factors.\n\ndef factores(n): \n    factors = []\n    for i in range(1, n+1):\n        if n % i == 0:\n            factors.append(i)\n    \n    return factors\n\n\nprint(factores(112))\n        \n\n\n\n",
      "metadata": {},
      "execution_count": null,
      "outputs": []
    },
    {
      "cell_type": "code",
      "source": "# 56: Create a Python program that consists of  function that goes through the array, incrementing (+1) for each odd (impar) number \n#     and decrementing (-1) for each even(par) number.\n\n\nnumeros=[2,5,7,12,15,18]\n\ndef mas_menos(numeros):\n    nuevo_array=[]\n    for numero in numeros:\n        if numero %2==0:\n            numero-=1\n            nuevo_array.append(numero)\n        elif numero %2 != 0:\n            numero+=1\n            nuevo_array.append(numero)\n    return nuevo_array\n    \nprint(mas_menos(numeros))\n\n\n\n\n",
      "metadata": {},
      "execution_count": null,
      "outputs": []
    },
    {
      "cell_type": "code",
      "source": "# 57: Write a Python program that returns the number of users in a chatroom based on the following rules:\n#     If there is no one, return \"no one online\".\n#     If there 1 person, return \"[user1] online\".\n#     If there are 2 people, return [user 1] and [user 2] online\".\n#     If there are n>2 people, return the first two names and add \"and n-2 more online\"\n\n\ndef chatroom_status(users):\n    if not users:\n        return 'no one online'\n    elif len(users)==1:\n        return users[0]+' online'\n    elif len(users)==2:\n        return users[0]+' and '+users[1]+' online'\n    else:\n        return users[0]+', '+users[1]+' and '+str(len(users)-2)+' more online'\n\nusers=[\"Matias\",\"nicolas\",\"avby\"]\nprint(chatroom_status(users))\n\n\n\n",
      "metadata": {},
      "execution_count": null,
      "outputs": []
    },
    {
      "cell_type": "code",
      "source": "# 58: Create a Python program that returns the sum of all even elements in a 2D matrix\n\n\nmatriz=[[1, 0, 2],[5, 5, 7],[9, 4, 3]]\n\ndef sum_matriz(matrices):\n    sumar=[]\n    for matriz in matrices:\n        for num in matriz:\n            if num %2 == 0 and num !=0:\n                sumar.append(num)\n    return sum(sumar)\n\nprint(sum_matriz(matriz))\n\n    ",
      "metadata": {},
      "execution_count": null,
      "outputs": []
    },
    {
      "cell_type": "code",
      "source": "# 59: Write a Python program that takes a string, breaks it up and returns it with vowels first, consonants second\n#      For any character that's not a vowel (like special characters or spaces), treat them like consonants.\n\n\n\n\n\n",
      "metadata": {},
      "execution_count": null,
      "outputs": []
    }
  ]
}
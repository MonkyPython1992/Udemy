{
  "metadata": {
    "language_info": {
      "codemirror_mode": {
        "name": "python",
        "version": 3
      },
      "file_extension": ".py",
      "mimetype": "text/x-python",
      "name": "python",
      "nbconvert_exporter": "python",
      "pygments_lexer": "ipython3",
      "version": "3.8"
    },
    "kernelspec": {
      "name": "python",
      "display_name": "Python (Pyodide)",
      "language": "python"
    }
  },
  "nbformat_minor": 4,
  "nbformat": 4,
  "cells": [
    {
      "cell_type": "code",
      "source": "#31 :Write a Python program that takes a string and calculates the number of letters and digits within it. Return the result in a dictionary.\n\nstring= \"Python is the number 1 modern language from 4 programming languages\"\n\ndef contador(txt):\n  return {\n    'Letras': sum(1 for x in txt if x.isalpha()),\n    'Digitos': sum(1 for x in txt if x.isdigit()),\n  }\nprint(contador(\"Python is the number 1 modern language from 4 programming languages\"))\n\n#isalpha() method returns True if all the characters are alphabet letters (a-z).\n#isdigit() method returns True if all the characters are digits, otherwise False.\n\n\n\n\n",
      "metadata": {},
      "execution_count": null,
      "outputs": []
    },
    {
      "cell_type": "code",
      "source": "#32 : Create a function that returns the frequency distribution of a list. This function should return an object, where the keys are the unique elements \n#     and the values are the frequency in which those elements occur.\n\ndef contador(txt):\n    dicc={}\n    for x in txt:\n        dicc[x]=txt.count(x)\n    \n    return dicc\n\nprint(contador([\"a\",\"a\",\"b\",\"a\"]))\n\n\n\n",
      "metadata": {},
      "execution_count": null,
      "outputs": []
    },
    {
      "cell_type": "code",
      "source": "# 33: ",
      "metadata": {},
      "execution_count": null,
      "outputs": []
    }
  ]
}
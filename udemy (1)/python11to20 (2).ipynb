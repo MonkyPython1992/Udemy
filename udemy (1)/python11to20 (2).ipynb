{
  "metadata": {
    "language_info": {
      "codemirror_mode": {
        "name": "python",
        "version": 3
      },
      "file_extension": ".py",
      "mimetype": "text/x-python",
      "name": "python",
      "nbconvert_exporter": "python",
      "pygments_lexer": "ipython3",
      "version": "3.8"
    },
    "kernelspec": {
      "name": "python",
      "display_name": "Python (Pyodide)",
      "language": "python"
    }
  },
  "nbformat_minor": 4,
  "nbformat": 4,
  "cells": [
    {
      "cell_type": "code",
      "source": "# 11: Create a Python program that takes numbers of cups bought and return the total number of cups that customer would get..every 6 one is free.\n\ndef tazas_gratis(tazas):\n    taza= tazas // 6\n    gratis = tazas + taza\n    return gratis\n\n\n\nprint( f\"Total of cups in the mounth  {tazas_gratis(22)}\")\n\n\n\n\n",
      "metadata": {
        "trusted": true
      },
      "execution_count": 4,
      "outputs": [
        {
          "name": "stdout",
          "text": "Total of cups in the mounth  25\n",
          "output_type": "stream"
        }
      ]
    },
    {
      "cell_type": "code",
      "source": "# 12: Write a Python program to return the last item in a list ?\n\nx = [1,2,3,4,5,6,7,8,9,10]\ny = [10,20,30,40,50,60,70,80,90,100]\nz = [110,220,330,440,550,660,770,880,990]\n\ndef last(list):\n    return (list[-1])\n\n            \nlast_x=last(x)\nlast_y=last(y)\nlast_z=last(z)\n\nprint(last_x)\nprint(last_y)\nprint(last_z)",
      "metadata": {
        "trusted": true
      },
      "execution_count": 14,
      "outputs": [
        {
          "name": "stdout",
          "text": "10\n100\n990\n",
          "output_type": "stream"
        }
      ]
    },
    {
      "cell_type": "code",
      "source": "# 13: Write a Python program to reverse a list.\n\nfruits=['apple', 'banana', 'cherry']\n    \nola=fruits\nola.reverse()\nprint(ola)\n\n\n\n",
      "metadata": {
        "trusted": true
      },
      "execution_count": 23,
      "outputs": [
        {
          "name": "stdout",
          "text": "['cherry', 'banana', 'apple']\n",
          "output_type": "stream"
        }
      ]
    },
    {
      "cell_type": "code",
      "source": "# 14: Write a python program that return the difference between first and last items in a list?\n\na = [110,140,170,200,230,260,290,320,350,380,410,440,470,500]\n\ndef resta(list):\n    return list[0] - list[-1]\n\nprint(resta(a))\n\n\n\n\n\n",
      "metadata": {
        "trusted": true
      },
      "execution_count": 24,
      "outputs": [
        {
          "name": "stdout",
          "text": "-390\n",
          "output_type": "stream"
        }
      ]
    },
    {
      "cell_type": "code",
      "source": "# 15: Write a python program that return the sum of the absolute value of each element of a list :\n\nx = [10,20,30,40,50]\n\nsum=0\n\nfor element in x:\n    sum += element\n    \n    \nprint(sum)",
      "metadata": {
        "trusted": true
      },
      "execution_count": 25,
      "outputs": [
        {
          "name": "stdout",
          "text": "150\n",
          "output_type": "stream"
        }
      ]
    },
    {
      "cell_type": "code",
      "source": "# 16: Write a python program that Return the largest number in the list.\n\nx = [10,20,30,40,50,60,70,80,90,100]\n\nmayor=0\n\nfor num in x:\n    if num > mayor:\n        mayor= num\n\nprint(mayor)\n",
      "metadata": {
        "trusted": true
      },
      "execution_count": 26,
      "outputs": [
        {
          "name": "stdout",
          "text": "100\n",
          "output_type": "stream"
        }
      ]
    },
    {
      "cell_type": "code",
      "source": "#17  :Write a Python program that accepts a list and returns the last item in the list.\n\nx= [ 1,2,3,4,5,'a','b','c','d','e']\n\n\nprint(x[-1])",
      "metadata": {
        "trusted": true
      },
      "execution_count": 27,
      "outputs": [
        {
          "name": "stdout",
          "text": "e\n",
          "output_type": "stream"
        }
      ]
    },
    {
      "cell_type": "code",
      "source": "# 18: Create a Python program to sort a list in ascending order \n\nlist= [5,100,20,15,150,80,210,30]\n\ndef ascendente(lista):\n    ordenada=sorted(lista)\n    return ordenada\n\nascendente(list)\n\n\n    \n",
      "metadata": {
        "trusted": true
      },
      "execution_count": 37,
      "outputs": [
        {
          "execution_count": 37,
          "output_type": "execute_result",
          "data": {
            "text/plain": "[5, 15, 20, 30, 80, 100, 150, 210]"
          },
          "metadata": {}
        }
      ]
    },
    {
      "cell_type": "code",
      "source": "# 19: Create a function that accepts a list of numbers and return both the minimum and maximum numbers, in that order (as a list).\n\nlist= [5,100,20,15,150,80,210,30]\n\ndef maximo_y_minimo (lista):\n    maximo= max (lista)\n    minimo= min (lista)\n    return f\"[{minimo} , {maximo}]\"\n\nmaximo_y_minimo(list)\n\n",
      "metadata": {
        "trusted": true
      },
      "execution_count": 38,
      "outputs": [
        {
          "execution_count": 38,
          "output_type": "execute_result",
          "data": {
            "text/plain": "'[5 , 210]'"
          },
          "metadata": {}
        }
      ]
    },
    {
      "cell_type": "code",
      "source": "# 20: Write a Python program that complete an array with random numbers.\n\nimport random\ndef random_array():\n    array = [random.randint(1,100) for i in range(10)]\n\n    print(array)    \n \nrandom_array()",
      "metadata": {
        "trusted": true
      },
      "execution_count": 43,
      "outputs": [
        {
          "name": "stdout",
          "text": "[36, 78, 36, 49, 86, 100, 78, 60, 6, 37]\n",
          "output_type": "stream"
        }
      ]
    },
    {
      "cell_type": "code",
      "source": "",
      "metadata": {},
      "execution_count": null,
      "outputs": []
    }
  ]
}
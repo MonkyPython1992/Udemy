{
  "metadata": {
    "language_info": {
      "codemirror_mode": {
        "name": "python",
        "version": 3
      },
      "file_extension": ".py",
      "mimetype": "text/x-python",
      "name": "python",
      "nbconvert_exporter": "python",
      "pygments_lexer": "ipython3",
      "version": "3.8"
    },
    "kernelspec": {
      "name": "python",
      "display_name": "Python (Pyodide)",
      "language": "python"
    }
  },
  "nbformat_minor": 4,
  "nbformat": 4,
  "cells": [
    {
      "cell_type": "code",
      "source": "#31 :Write a Python program that takes a string and calculates the number of letters and digits within it. Return the result in a dictionary.\n\nstring= \"Python is the number 1 modern language from 4 programming languages\"\n\ndef contador(txt):\n  return {\n    'Letras': sum(1 for x in txt if x.isalpha()),\n    'Digitos': sum(1 for x in txt if x.isdigit()),\n  }\nprint(contador(\"Python is the number 1 modern language from 4 programming languages\"))\n\n#isalpha() method returns True if all the characters are alphabet letters (a-z).\n#isdigit() method returns True if all the characters are digits, otherwise False.\n\n\n\n\n",
      "metadata": {},
      "execution_count": null,
      "outputs": []
    },
    {
      "cell_type": "code",
      "source": "#32 : Create a function that returns the frequency distribution of a list. This function should return an object, where the keys are the unique elements \n#     and the values are the frequency in which those elements occur.\n\ndef contador(txt):\n    dicc={}\n    for x in txt:\n        dicc[x]=txt.count(x)\n    \n    return dicc\n\nprint(contador([\"a\",\"a\",\"b\",\"a\"]))\n\n\n\n",
      "metadata": {},
      "execution_count": null,
      "outputs": []
    },
    {
      "cell_type": "code",
      "source": "# 33: You work for a manufacturer, and have been asked to calculate the total profit made on the sales of a product. \n#     You are given a dictionary containing the cost price per unit (in dollars), sell price per unit (in dollars), and the starting inventory. \n#     Return the total profit made, rounded to the nearest dollar\n\n\nproducto={\"precio_costo\":12,95,\"precio_venta\":25,45,\"stock\":1200}\n\ndef ganancia(producto):\n    return (producto[\"precio_venta\"] - producto[\"precio_costo\"])* producto[\"stock\"]\n\n\nprint(f\"Las ganancias de producto son: {int(ganancia(producto))}\")\n\n\n\n",
      "metadata": {},
      "execution_count": null,
      "outputs": []
    },
    {
      "cell_type": "code",
      "source": "# 34: Write a Python program that returns True if a dictionary contains the specified key, and False otherwise.\n\n\nproducto={\"precio_costo\":12.95,\"precio_venta\":25.45,\"stock\":1200}\n\ndef clave(dicc,key):\n    for x in dicc:\n        if key == x:\n            return True\n        \n\nprint(clave(producto,\"stock\"))\n\n#si no esta la clave devuelve none\n\n\n\n",
      "metadata": {},
      "execution_count": null,
      "outputs": []
    },
    {
      "cell_type": "code",
      "source": "#35: Email,Form the email by joining the first and last name together with a \".\" in between, and follow it with 'company.com' at the end. \n\n\ndef email(first,last,middle=\"\"):\n    print(f\"{first.lower()}.{last.lower()}@company.com\")\n\n\nemail(\"matias\",\"ivan\")\n\n\n\n\n\n\n",
      "metadata": {},
      "execution_count": null,
      "outputs": []
    },
    {
      "cell_type": "code",
      "source": "# 36: Create a Python program which takes a list of objects from the class IceCream and returns the sweetness value of the sweetest iceCream.\n\ndef sweetest_icecream(sabor,dulzura):\n    flavor_values = {\n    'Plain' : 0,\n    'Vanilla' : 5,\n    'ChocolateChip' : 5,\n    'Strawberry' : 10,\n    'Chocolate' : 10\n    }\n    for x in flavor_values:\n        if sabor in flavor_values:\n            total= flavor_values[sabor] + dulzura\n            return total\n    \nprint(f\"nivel de dulzura: \" + str(sweetest_icecream(\"Vanilla\",10)) )   \n\n#utilice la lista predeterminada",
      "metadata": {},
      "execution_count": null,
      "outputs": []
    },
    {
      "cell_type": "code",
      "source": "# 37: Suppose you have a guest list of students and the country they are from, stored as key-value pairs in a dictionary.\n    # Write a Python program that takes in a name and returns a name tag, that should read: \"Hi! I'm [name], and I'm from [country].\"\n\n\nGUEST_LIST ={ \"Emmma\": \"Germany\", \"Adalene\": \"France\", \"shushin\": \"Japan\", \"Robert\": \"England\", \"Tamer\": \"Egypt\"}\n\ndef saludo(dicc):\n    for clave, valor in dicc.items():\n        print ( \"Hi! I´m {} , and I´m from {} \".format(clave, valor) )\n        \nsaludo(GUEST_LIST)\n\n\n\n\n\n",
      "metadata": {},
      "execution_count": null,
      "outputs": []
    },
    {
      "cell_type": "code",
      "source": "# 38: ",
      "metadata": {},
      "execution_count": null,
      "outputs": []
    }
  ]
}
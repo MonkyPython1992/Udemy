{
  "metadata": {
    "language_info": {
      "codemirror_mode": {
        "name": "python",
        "version": 3
      },
      "file_extension": ".py",
      "mimetype": "text/x-python",
      "name": "python",
      "nbconvert_exporter": "python",
      "pygments_lexer": "ipython3",
      "version": "3.8"
    },
    "kernelspec": {
      "name": "python",
      "display_name": "Python (Pyodide)",
      "language": "python"
    }
  },
  "nbformat_minor": 4,
  "nbformat": 4,
  "cells": [
    {
      "cell_type": "code",
      "source": "# 21: Create a Python program that takes a number and returns a list with the digits of the number in reverse order.\n\ndef num_to_list(n):\n    \n    numero=[]\n    for digito in n:\n        numero.append(digito)\n    \n    numero.reverse()\n    return numero\n\nnum_to_list(\"1234\")\n        \n\n\n\n\n\n",
      "metadata": {
        "trusted": true
      },
      "execution_count": 4,
      "outputs": [
        {
          "execution_count": 4,
          "output_type": "execute_result",
          "data": {
            "text/plain": "['4', '3', '2', '1']"
          },
          "metadata": {}
        }
      ]
    },
    {
      "cell_type": "code",
      "source": "# 22: The packing robot  is running the getContainer() function to retrieve the container of a product. But something is not right.\n\ndef get_container(food):\n    if food == \"Bread\":\n        print(\"bag\")\n    elif food == \"beer\":\n        print(\"bottle\")\n    elif food == \"Candy\":\n        print(\"plastic\")\n    elif food == \"Cheese\":\n        print( 'None')\n        \n\nget_container (\"Bread\")\nget_container(\"Candy\")\n",
      "metadata": {
        "trusted": true
      },
      "execution_count": 5,
      "outputs": [
        {
          "name": "stdout",
          "text": "bag\nplastic\n",
          "output_type": "stream"
        }
      ]
    },
    {
      "cell_type": "code",
      "source": "# 23: Write a Python program that returns True if a dictionary is empty, and False otherwise.\n\ndef empty(dicc):\n    if dicc == {}:\n        print (True)\n    else:\n        print (False)\n\ndiccio={} \nempty(diccio)\n\ndiccio2={\"nombre\":\"luis\"}\nempty(diccio2)\n\n\n",
      "metadata": {
        "trusted": true
      },
      "execution_count": 10,
      "outputs": [
        {
          "name": "stdout",
          "text": "True\nFalse\n",
          "output_type": "stream"
        }
      ]
    },
    {
      "cell_type": "code",
      "source": "# 24: Create a Python program that takes a dictionary argument sizes (contains width, length, height keys) and returns the volume of the box.\n\n\n\nmedidas={\"alto\":10,\"largo\":15,\"ancho\":18}\n\ndef volumen(dicc):\n    return dicc.get(\"alto\") * dicc.get(\"largo\") * dicc.get(\"ancho\")\n\n                                                           \n                                                           \nprint(f\"El volumen es de : {volumen(medidas)}\")                                                       \n\n\n\n\n",
      "metadata": {
        "trusted": true
      },
      "execution_count": 17,
      "outputs": [
        {
          "name": "stdout",
          "text": "El volumen es de : 2700\n",
          "output_type": "stream"
        }
      ]
    },
    {
      "cell_type": "code",
      "source": "# 25: Create a python program with a number and a dictionary with min and max properties, return True if the number lies within the given range.\n\ndicc={\"minimo\":1 , \"maximo\" :100}\n\ndef in_range(dicc,n):\n    if n > dicc.get(\"minimo\") and n < dicc.get(\"maximo\"):\n        print(True)\n    else:\n        print(False)\n\nin_range(dicc,102)\nin_range(dicc,45)\n\n\n\n\n\n\n\n",
      "metadata": {
        "trusted": true
      },
      "execution_count": 22,
      "outputs": [
        {
          "name": "stdout",
          "text": "False\nTrue\n",
          "output_type": "stream"
        }
      ]
    },
    {
      "cell_type": "code",
      "source": "# 26: Create a Python program that takes a dictionary as an argument and returns a string with facts about the city.\n\npais={\"name\":\"Argentina\",\"population\":\"48000000\",\"continent\":\"America\"}\n\n\n\ndef info(dicc):\n    print( pais[\"name\"] +\" se encuentra en \"+ pais[\"continent\"] + \" y posee una poblacion de: \" +pais[\"population\"] +\" de habitantes\")\n\n\n    \ninfo(pais)\n\n\n",
      "metadata": {
        "trusted": true
      },
      "execution_count": null,
      "outputs": []
    },
    {
      "cell_type": "code",
      "source": "# 27: Write a Python program that creates a dictionary with each (key, value) pair being the (lower case, upper case) versions of a letter.\n\nlista=[\"a\",\"e\",\"i\",\"o\",\"u\"]\ndicc={}\n\ndef create_dicc(list):\n    for letra in lista:\n        dicc[letra]=letra.upper()\n        \ncreate_dicc(lista)\nprint(dicc)\n    \n    \n\n\n\n\n\n\n\n",
      "metadata": {
        "trusted": true
      },
      "execution_count": null,
      "outputs": []
    },
    {
      "cell_type": "code",
      "source": "# 28:  Create a Python program that takes a list of dictionaries and returns the sum of people's budgets.   \n\n\nlista=[{\"nombre\":\"Matias\",\"dni\":\"1234\",\"presupuesto\":2000},\n{\"nombre\":\"Maria\",\"dni\":\"12334\",\"presupuesto\":5000},\n{\"nombre\":\"Matias\",\"dni\":\"1234\",\"presupuesto\":2000}]\n\n\ndef suma_presupuestos(list):\n    return sum(i[\"presupuesto\"] for i in list)\n        \n        \nprint(suma_presupuestos(lista))\n\n\n# r = {key: [sum(value)] for key, value in d.items()}\n\n\n",
      "metadata": {
        "trusted": true
      },
      "execution_count": null,
      "outputs": []
    },
    {
      "cell_type": "code",
      "source": "# 29:  Create a Python program that takes a dictionary of students and returns a list of student names in alphabetical order.\n\n\nestudiantes={\"alumno1\":\"matias\",\"alumno2\":\"luis\",\"alumno3\":\"juan\"}\n\ndef ordenados(dicc):\n    dicc_ordenado= sorted(dicc.values())\n    return dicc_ordenado\n    \nprint(ordenados(estudiantes))\n\n#Diccionario de ordenación de Python por valor - Sólo obtiene los valores ordenados\n#sortedDict = sorted(exampleDict.values())\n\n\n\n\n\n\n\n\n",
      "metadata": {
        "trusted": true
      },
      "execution_count": null,
      "outputs": []
    },
    {
      "cell_type": "code",
      "source": "# 30: Given an list of scrabble tiles (as dictionaries), create a function that outputs the maximum possible score a player can achieve by summing up the total number of points for all the tiles in their hand.\n\n\nmano=[{ \"tile\": \"N\", \"score\": 1 },\n  { \"tile\": \"K\", \"score\": 5 },\n  { \"tile\": \"Z\", \"score\": 10 },\n  { \"tile\": \"X\", \"score\": 8 },\n  { \"tile\": \"D\", \"score\": 2 },\n  { \"tile\": \"A\", \"score\": 1 },\n  { \"tile\": \"E\", \"score\": 1 }]\n\n\n\ndef puntuacion(lista):\n     return sum([i['score'] for i in tile_hand])\n    \n\n\n",
      "metadata": {},
      "execution_count": null,
      "outputs": []
    }
  ]
}
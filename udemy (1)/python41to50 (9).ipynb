{
  "metadata": {
    "language_info": {
      "codemirror_mode": {
        "name": "python",
        "version": 3
      },
      "file_extension": ".py",
      "mimetype": "text/x-python",
      "name": "python",
      "nbconvert_exporter": "python",
      "pygments_lexer": "ipython3",
      "version": "3.8"
    },
    "kernelspec": {
      "name": "python",
      "display_name": "Python (Pyodide)",
      "language": "python"
    }
  },
  "nbformat_minor": 4,
  "nbformat": 4,
  "cells": [
    {
      "cell_type": "code",
      "source": "# 41:  Create a Python program that takes an student dictionaries notes and returns their top.\n\nalumno1={\"nota1\":9,\"nota2\":4,\"nota3\":8}\ndef mejor_nota(dicc):\n    nota_max=max(dicc.values())\n    print(nota_max)\n\nmejor_nota(alumno1)\n\n\n",
      "metadata": {},
      "execution_count": null,
      "outputs": []
    },
    {
      "cell_type": "code",
      "source": "# 42: Given a word, create a dictionary that stores the indexes of each letter in a list.\n\ndef map_letters(palabra):\n  return {letra: [i for i, x in enumerate(palabra) if x==letra] for letra in set(word)}\n  \nprint(map_letters(\"ahora\"))\n\n#la funcion arma un dicc donde las claves sos las letras y los valores es la lista de la posicion .",
      "metadata": {},
      "execution_count": null,
      "outputs": []
    },
    {
      "cell_type": "code",
      "source": "# 43 : Create a function that takes,A list of keys.A list of values (same size).True, if key and value should be swapped, else False.\n\nclaves=[\"argentina\",\"uruguay\"]\nvalores=[\"buenos aires\",\"montevideo\"]\n\ndef intercambiar(clave,valor,intercambio=True):\n    if intercambio:\n        return dict(zip(valor,clave))\n    else:\n        return dict(zip(clave,valor))\n\nprint(intercambiar(claves,valores,True))\n\n#la funcion zip  toma como argumento dos o más objetos retorna un nuevo iterable \n# cuyos elementos son tuplas que contienen un elemento de cada uno de los iteradores originales.\n\n",
      "metadata": {},
      "execution_count": null,
      "outputs": []
    },
    {
      "cell_type": "code",
      "source": "# 44: Write a python program that create a dictionary from two lists:\n\nclaves=[\"argentina\",\"uruguay\"]\nvalores=[\"buenos aires\",\"montevideo\"]\n\ndef armar_dic(clave,valor):\n    return dict(zip(clave,valor))\n\nprint(armar_dic(claves,valores))\n\n#otra opcion con bucle\n\nx = [10,20,30,40,50,60]\ny = ['a','b','c','d','e','f']\nz = {}\nfor i in range(len(x)):\n    z[y[i]] = x[i]  \nprint (z)\n\n\n\n\n\n",
      "metadata": {},
      "execution_count": null,
      "outputs": []
    },
    {
      "cell_type": "code",
      "source": "# 45:....Create a function that takes a dicc of customers, a minimum number of orders and a minimum order price. \n    # Return a list of customers that are eligible for a free pizza.\n    \ncomenzal1={\"nombre\":\"matias\",\"cant_pedido\":3,\"cant_dinero\":550}\ncomenzal2={\"nombre\":\"jonatan\",\"cant_pedido\":7,\"cant_dinero\":1150}\n\n\ndef gratis(comensal):\n    \n    if comensal.get(\"cant_pedido\") >=5 and comensal.get(\"cant_dinero\") > 1000:\n        return(\"Usted entra al sorteo de una pizza gratis\")\n        \n    else:\n        return(\"Ustede no ingresa al sorteo\")\n\nprint(gratis(comenzal1))\nprint(gratis(comenzal2))\n\n\n\n    \n    ",
      "metadata": {},
      "execution_count": null,
      "outputs": []
    },
    {
      "cell_type": "code",
      "source": "# 46: Given a dictionary with students and the grades that they made on the tests that they took, determine which student has the best Test Average. \n\nestudiantes={\"Matias\":[4,6,9],\"Jona\":[3,4,7],\"Ale\":[6,7,9]}\n\ndef get_best_student(grades):\n    return max(grades, key=lambda student: sum(grades[student]))\n    \nprint(get_best_student(estudiantes))\n\n\n#ejemplo de ordenar dicc por poblacion para entender el ejercicio\n#cities = sorted(cities, key=lambda city: city['population'])\n\n#La lambda palabra clave nos permite declarar funciones pequeñas, anónimas y de una sola línea, \n#tomando uno o más parámetros y devolviendo un valor de una expresión.\n\n\n",
      "metadata": {},
      "execution_count": null,
      "outputs": []
    },
    {
      "cell_type": "code",
      "source": "# 47: Given a dictionary containing the names and scores of 5 competitors, and a competitor name, \n# return the rank of that competitor after applying competition ranking\n\ndicc={\"John\": 96, \"Emma\": 95, \"Sara\": 93, \"Kate\": 89, \"Peter\": 82 }\n\ndef ranking(dicc,atleta):\n    contador=0\n    for competidor,score in dicc.items():\n        contador+=1\n        if competidor == atleta:\n            return(contador)\n\n\nprint(ranking(dicc,\"Kate\"))\n\n\n\n\n",
      "metadata": {},
      "execution_count": null,
      "outputs": []
    },
    {
      "cell_type": "code",
      "source": "# 48: In the game Set, three cards form a set if each of the cards are identical or completely different for each of the four properties.\n\n#propiedades: Las tres tarjetas deben: a)Tienen el mismo color o diferentes colores.\n#             b)Tener el mismo número o números diferentes.\n#             c)Tienen los mismos tonos o diferentes tonos.\n#             d)Tienen la misma forma o formas diferentes.\n\na=[\"rojo\",\"morado\",\"verde\"]\nb=[1,2,3]\nc=[\"vacías\", \"rayadas\", \"llenas\"]\nd=[\"garabato\", \"ovalado\", \"diamante\"]\n\n\ncartas1=[[\"rojo\",1,\"vacias\",\"ovalado\"],[\"verde\",2,\"vacias\",\"diamante\"],[\"rojo\",\"2\",\"vacias\",\"ovalada\"]]\n\n#imprime el color de cada carta\n\ndef recorrer_color(cartas):\n    for f in range(len(cartas)):\n        for x in range(1):\n            print(cartas[f][x])\n\nrecorrer_color(cartas1)\n\n#imnprime el numero de cada carta\n\ndef recorrer_numero(cartas):\n    for f in range(len(cartas)):\n        for x in range(1):\n            print(cartas[f][1])\nrecorrer_numero(cartas1)\n\n#imprime el tono de cada carta\n\ndef recorrer_tono(cartas):\n    for f in range(len(cartas)):\n        for x in range(1):\n            print(cartas[f][2])\nrecorrer_tono(cartas1)\n\n#imprime la forma de cada carta\n\ndef recorrer_forma(cartas):\n    for f in range(len(cartas)):\n        for x in range(1):\n            print(cartas[f][3])\nrecorrer_forma(cartas1)\n\n\n\n\n\n\n\n\n\n\n",
      "metadata": {},
      "execution_count": null,
      "outputs": []
    }
  ]
}
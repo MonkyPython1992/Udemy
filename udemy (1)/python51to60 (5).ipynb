{
  "metadata": {
    "language_info": {
      "codemirror_mode": {
        "name": "python",
        "version": 3
      },
      "file_extension": ".py",
      "mimetype": "text/x-python",
      "name": "python",
      "nbconvert_exporter": "python",
      "pygments_lexer": "ipython3",
      "version": "3.8"
    },
    "kernelspec": {
      "name": "python",
      "display_name": "Python (Pyodide)",
      "language": "python"
    }
  },
  "nbformat_minor": 4,
  "nbformat": 4,
  "cells": [
    {
      "cell_type": "code",
      "source": "# 51: Write a function that groups words by the number of capital letters and returns a dictionary \n#     of object entries whose keys are the number of capital letters and the values are the groups.\n\ngrupo=[\"MaTIas\",\"LuiS\",\"ALEJandro\"]\n\ndef mayusculas(grupo):\n    diccionario={}\n    contador=0\n    for palabra in grupo:\n        for letra in palabra:\n            if letra.isupper():\n                contador += 1\n        diccionario[contador]=palabra\n        contador=0\n        \n    return diccionario\n\nprint(mayusculas(grupo))\n\n",
      "metadata": {},
      "execution_count": null,
      "outputs": []
    },
    {
      "cell_type": "code",
      "source": "# 52: Create a dictionary of how many more pages each ink color can print, \n#     output the maximum number of pages the printer can print before any of the colors run out.\n\ntintas={\"cian\":100, \"magenta\":185,\"amarillo\":90}\n\ndef niveles_tinta(tintas):\n    return min(tintas.values())\n\nprint(\"cantidad de hojas disponibles:\" ,niveles_tinta(tintas))\n\n\n\n",
      "metadata": {},
      "execution_count": null,
      "outputs": []
    },
    {
      "cell_type": "code",
      "source": "# 53: ",
      "metadata": {},
      "execution_count": null,
      "outputs": []
    }
  ]
}
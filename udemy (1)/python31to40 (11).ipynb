{
  "metadata": {
    "language_info": {
      "codemirror_mode": {
        "name": "python",
        "version": 3
      },
      "file_extension": ".py",
      "mimetype": "text/x-python",
      "name": "python",
      "nbconvert_exporter": "python",
      "pygments_lexer": "ipython3",
      "version": "3.8"
    },
    "kernelspec": {
      "name": "python",
      "display_name": "Python (Pyodide)",
      "language": "python"
    }
  },
  "nbformat_minor": 4,
  "nbformat": 4,
  "cells": [
    {
      "cell_type": "code",
      "source": "#31 :Write a Python program that takes a string and calculates the number of letters and digits within it. Return the result in a dictionary.\n\nstring= \"Python is the number 1 modern language from 4 programming languages\"\n\ndef contador(txt):\n  return {\n    'Letras': sum(1 for x in txt if x.isalpha()),\n    'Digitos': sum(1 for x in txt if x.isdigit()),\n  }\nprint(contador(\"Python is the number 1 modern language from 4 programming languages\"))\n\n#isalpha() method returns True if all the characters are alphabet letters (a-z).\n#isdigit() method returns True if all the characters are digits, otherwise False.\n\n\n\n\n",
      "metadata": {},
      "execution_count": null,
      "outputs": []
    },
    {
      "cell_type": "code",
      "source": "#32 : Create a function that returns the frequency distribution of a list. This function should return an object, where the keys are the unique elements \n#     and the values are the frequency in which those elements occur.\n\ndef contador(txt):\n    dicc={}\n    for x in txt:\n        dicc[x]=txt.count(x)\n    \n    return dicc\n\nprint(contador([\"a\",\"a\",\"b\",\"a\"]))\n\n\n\n",
      "metadata": {},
      "execution_count": null,
      "outputs": []
    },
    {
      "cell_type": "code",
      "source": "# 33: You work for a manufacturer, and have been asked to calculate the total profit made on the sales of a product. \n#     You are given a dictionary containing the cost price per unit (in dollars), sell price per unit (in dollars), and the starting inventory. \n#     Return the total profit made, rounded to the nearest dollar\n\n\nproducto={\"precio_costo\":12,95,\"precio_venta\":25,45,\"stock\":1200}\n\ndef ganancia(producto):\n    return (producto[\"precio_venta\"] - producto[\"precio_costo\"])* producto[\"stock\"]\n\n\nprint(f\"Las ganancias de producto son: {int(ganancia(producto))}\")\n\n\n\n",
      "metadata": {},
      "execution_count": null,
      "outputs": []
    },
    {
      "cell_type": "code",
      "source": "# 34: Write a Python program that returns True if a dictionary contains the specified key, and False otherwise.\n\n\nproducto={\"precio_costo\":12.95,\"precio_venta\":25.45,\"stock\":1200}\n\ndef clave(dicc,key):\n    for x in dicc:\n        if key == x:\n            return True\n        \n\nprint(clave(producto,\"stock\"))\n\n#si no esta la clave devuelve none\n\n\n\n",
      "metadata": {},
      "execution_count": null,
      "outputs": []
    },
    {
      "cell_type": "code",
      "source": "",
      "metadata": {},
      "execution_count": null,
      "outputs": []
    }
  ]
}
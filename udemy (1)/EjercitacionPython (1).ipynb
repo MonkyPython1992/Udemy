{
  "metadata": {
    "language_info": {
      "codemirror_mode": {
        "name": "python",
        "version": 3
      },
      "file_extension": ".py",
      "mimetype": "text/x-python",
      "name": "python",
      "nbconvert_exporter": "python",
      "pygments_lexer": "ipython3",
      "version": "3.8"
    },
    "kernelspec": {
      "name": "python",
      "display_name": "Python (Pyodide)",
      "language": "python"
    }
  },
  "nbformat_minor": 4,
  "nbformat": 4,
  "cells": [
    {
      "cell_type": "code",
      "source": "# 1: Write a python program that takes a name and returns a greeting in the form of a string.\n\ndef greeting(name):\n    print(f\"Hi {name} , nice to meet you!\")\n\n    \ngreeting(\"matias\")",
      "metadata": {
        "trusted": true
      },
      "execution_count": 4,
      "outputs": [
        {
          "name": "stdout",
          "text": "Hi matias , nice to meet you!\n",
          "output_type": "stream"
        }
      ]
    },
    {
      "cell_type": "code",
      "source": "# 2: Write a Python program that Create a function that gives True if a string is empty and False otherwise.\n\ndef empty(text):\n    if text == \"\":\n        return True\n    else:\n        return  False\n\ntest1= empty(\"\")\ntest2= empty(\"same\")\nprint(f\"result of test1 is: {test1}\")\nprint(f\"result of test2 is: {test2}\")\n",
      "metadata": {
        "trusted": true
      },
      "execution_count": 15,
      "outputs": [
        {
          "name": "stdout",
          "text": "result of test1 is: True\nresult of test2 is: False\n",
          "output_type": "stream"
        }
      ]
    },
    {
      "cell_type": "code",
      "source": "# 3: Write a Python program that remove the extra spaces from the following string:\n\n\n\n\n\n\n\n",
      "metadata": {},
      "execution_count": null,
      "outputs": []
    }
  ]
}
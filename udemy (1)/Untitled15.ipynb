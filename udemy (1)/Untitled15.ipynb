{
  "metadata": {
    "language_info": {
      "codemirror_mode": {
        "name": "python",
        "version": 3
      },
      "file_extension": ".py",
      "mimetype": "text/x-python",
      "name": "python",
      "nbconvert_exporter": "python",
      "pygments_lexer": "ipython3",
      "version": "3.8"
    },
    "kernelspec": {
      "name": "python",
      "display_name": "Python (Pyodide)",
      "language": "python"
    }
  },
  "nbformat_minor": 4,
  "nbformat": 4,
  "cells": [
    {
      "cell_type": "code",
      "source": "import random \n\n#create color choices \n\ncolores=[\"azul\",\"rojo\",\"amarillo\",\"verde\",\"violeta\"]\n#create a pc choices\ndef pc_choice():\n    print(\"computer choice:\")\n    pc_choise=random.choice(colores)\n    return pc_choise\n\n\n#create a player choice\ndef player_choice():\n    print(\"Player choice between: \\n azul,rojo,amarillo, verde y violeta \")\n    player_choise=input(\"color chosen: \")\n    return player_choise\n\n#puntuacion\ndef puntuacion(color):\n    puntuacion=0\n    if color==\"azul\":\n        puntuacion +=1\n    elif color == \"rojo\":\n        puntuacion +=2\n    elif color ==\"amarillo\":\n        puntuacion +=3\n    elif color ==\"verde\":\n        puntuacion +=4\n    elif color==\"violeta\":\n        puntuacion +=5\n    \n    return puntuacion\n\ndef juego():\n    \n    pc_choice()\n    player_choice()\n    print(\"puntuacion de Pc: \",str(puntuacion(pc_choice)))\n    print(\"puntuacion de Player: \",str(puntuacion(player_choice)))\n\njuego()",
      "metadata": {
        "trusted": true
      },
      "execution_count": null,
      "outputs": []
    }
  ]
}
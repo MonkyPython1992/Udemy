{
  "metadata": {
    "language_info": {
      "codemirror_mode": {
        "name": "python",
        "version": 3
      },
      "file_extension": ".py",
      "mimetype": "text/x-python",
      "name": "python",
      "nbconvert_exporter": "python",
      "pygments_lexer": "ipython3",
      "version": "3.8"
    },
    "kernelspec": {
      "name": "python",
      "display_name": "Python (Pyodide)",
      "language": "python"
    }
  },
  "nbformat_minor": 4,
  "nbformat": 4,
  "cells": [
    {
      "cell_type": "code",
      "source": "# 21: Create a Python program that takes a number and returns a list with the digits of the number in reverse order.\n\ndef num_to_list(n):\n    \n    numero=[]\n    for digito in n:\n        numero.append(digito)\n    \n    numero.reverse()\n    return numero\n\nnum_to_list(\"1234\")\n        \n\n\n\n\n\n",
      "metadata": {
        "trusted": true
      },
      "execution_count": 4,
      "outputs": [
        {
          "execution_count": 4,
          "output_type": "execute_result",
          "data": {
            "text/plain": "['4', '3', '2', '1']"
          },
          "metadata": {}
        }
      ]
    },
    {
      "cell_type": "code",
      "source": "# 22: The packing robot  is running the getContainer() function to retrieve the container of a product. But something is not right.\n\ndef get_container(food):\n    if food == \"Bread\":\n        print(\"bag\")\n    elif food == \"beer\":\n        print(\"bottle\")\n    elif food == \"Candy\":\n        print(\"plastic\")\n    elif food == \"Cheese\":\n        print( 'None')\n        \n\nget_container (\"Bread\")\nget_container(\"Candy\")\n",
      "metadata": {
        "trusted": true
      },
      "execution_count": 5,
      "outputs": [
        {
          "name": "stdout",
          "text": "bag\nplastic\n",
          "output_type": "stream"
        }
      ]
    },
    {
      "cell_type": "code",
      "source": "# 23: Write a Python program that returns True if a dictionary is empty, and False otherwise.\n\ndef empty(dicc):\n    if dicc == {}:\n        print (True)\n    else:\n        print (False)\n\ndiccio={} \nempty(diccio)\n\ndiccio2={\"nombre\":\"luis\"}\nempty(diccio2)\n\n\n",
      "metadata": {
        "trusted": true
      },
      "execution_count": 10,
      "outputs": [
        {
          "name": "stdout",
          "text": "True\nFalse\n",
          "output_type": "stream"
        }
      ]
    },
    {
      "cell_type": "code",
      "source": "# 24: Create a Python program that takes a dictionary argument sizes (contains width, length, height keys) and returns the volume of the box.\n\n\n\nmedidas={\"alto\":10,\"largo\":15,\"ancho\":18}\n\ndef volumen(dicc):\n    return dicc.get(\"alto\") * dicc.get(\"largo\") * dicc.get(\"ancho\")\n\n                                                           \n                                                           \nprint(f\"El volumen es de : {volumen(medidas)}\")                                                       \n\n\n\n\n",
      "metadata": {
        "trusted": true
      },
      "execution_count": 17,
      "outputs": [
        {
          "name": "stdout",
          "text": "El volumen es de : 2700\n",
          "output_type": "stream"
        }
      ]
    },
    {
      "cell_type": "code",
      "source": "# 25: Create a python program with a number and a dictionary with min and max properties, return True if the number lies within the given range.\n\n\n\n\n\n\n\n\n\n",
      "metadata": {},
      "execution_count": null,
      "outputs": []
    }
  ]
}